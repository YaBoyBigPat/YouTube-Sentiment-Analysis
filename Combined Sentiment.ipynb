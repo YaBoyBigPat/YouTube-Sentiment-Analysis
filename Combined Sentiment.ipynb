{
 "cells": [
  {
   "cell_type": "code",
   "execution_count": null,
   "metadata": {},
   "outputs": [],
   "source": [
    "import pandas as pd\n",
    "import numpy as np\n",
    "import matplotlib.pyplot as plt"
   ]
  },
  {
   "cell_type": "code",
   "execution_count": null,
   "metadata": {},
   "outputs": [],
   "source": []
  },
  {
   "cell_type": "code",
   "execution_count": null,
   "metadata": {},
   "outputs": [],
   "source": [
    "video_details = pd.read_csv('video_details.csv')"
   ]
  },
  {
   "cell_type": "code",
   "execution_count": null,
   "metadata": {},
   "outputs": [],
   "source": [
    "video_sentiment = pd.read_csv('kurzgesagt_video_sentiment_labels.csv')"
   ]
  },
  {
   "cell_type": "code",
   "execution_count": null,
   "metadata": {},
   "outputs": [],
   "source": [
    "topics = pd.read_excel(\"PATH_TO_FILE and Topic Words.xlsx\")\n"
   ]
  },
  {
   "cell_type": "code",
   "execution_count": null,
   "metadata": {},
   "outputs": [],
   "source": [
    "# Check if 'video_id' column exists in video_details dataframe\n",
    "if 'video_id' not in video_details.columns:\n",
    "    raise KeyError(\"video_id column not found in video_details dataframe\")\n",
    "\n",
    "# Check if 'video_id' column exists in video_sentiment dataframe\n",
    "if 'video_id' not in video_sentiment.columns:\n",
    "    raise KeyError(\"video_id column not found in video_sentiment dataframe\")\n",
    "\n",
    "# Check if 'video_id' column exists in topics dataframe\n",
    "if 'video_id' not in topics.columns:\n",
    "    raise KeyError(\"video_id column not found in topics dataframe\")\n",
    "\n",
    "# Merge video_details and video_sentiment\n",
    "merged_df = pd.merge(video_details, video_sentiment, on='video_id')\n",
    "\n",
    "# Merge the result with topics\n",
    "merged_df = pd.merge(merged_df, topics, on='video_id')"
   ]
  },
  {
   "cell_type": "code",
   "execution_count": null,
   "metadata": {},
   "outputs": [],
   "source": [
    "# Remove the columns\n",
    "merged_df = merged_df.drop(columns=[\"Unnamed: 0\", \"negative\", \"positive\", \"neutral\"])"
   ]
  },
  {
   "cell_type": "code",
   "execution_count": null,
   "metadata": {},
   "outputs": [],
   "source": [
    "merged_df.head()"
   ]
  },
  {
   "cell_type": "code",
   "execution_count": null,
   "metadata": {},
   "outputs": [],
   "source": [
    "merged_df = merged_df.rename(columns={'label': 'sentiment'})\n",
    "# Remove newlines from the 'description' column\n",
    "merged_df['description'] = merged_df['description'].str.replace('\\n', ' ')\n",
    "\n",
    "# Save the DataFrame as a CSV file\n",
    "merged_df.to_csv('merged_df.csv', index=False)"
   ]
  },
  {
   "cell_type": "markdown",
   "metadata": {},
   "source": [
    "Spliting The topic Words"
   ]
  },
  {
   "cell_type": "code",
   "execution_count": null,
   "metadata": {},
   "outputs": [],
   "source": [
    "topics = pd.read_excel(\"PATH_TO_FILE and Topic Words.xlsx\", sheet_name='Sheet1')"
   ]
  },
  {
   "cell_type": "code",
   "execution_count": null,
   "metadata": {},
   "outputs": [],
   "source": [
    "# Assuming you have a DataFrame 'df' with 'VideoID', 'TopicWords1', 'TopicWords2', ...\n",
    "\n",
    "# First, melt your DataFrame to bring all topic words into a single column\n",
    "topics_split = pd.melt(topics, id_vars=['video_id'], value_vars=['Words_for_Topic_1', 'Words_for_Topic_2', 'Words_for_Topic_3'],\n",
    "                    var_name='TopicSource', value_name='Words')\n",
    "\n",
    "# Split the 'Words' column into separate rows\n",
    "# This step explodes each list of words into separate rows, maintaining the VideoID\n",
    "topics_split['Words'] = topics_split['Words'].str.split(',')\n",
    "final_split_topics = topics_split.explode('Words')\n",
    "\n",
    "# Optionally, clean up the data by stripping whitespace\n",
    "final_split_topics['Words'] = final_split_topics['Words'].str.strip()\n",
    "\n",
    "# Now, 'exploded_df' has one row per word, with each word still linked to its VideoID\n"
   ]
  },
  {
   "cell_type": "code",
   "execution_count": null,
   "metadata": {},
   "outputs": [],
   "source": [
    "final_split_topics"
   ]
  },
  {
   "cell_type": "code",
   "execution_count": null,
   "metadata": {},
   "outputs": [],
   "source": [
    "final_split_topics.to_csv('split_topic_words.csv', index=False)"
   ]
  },
  {
   "cell_type": "code",
   "execution_count": null,
   "metadata": {},
   "outputs": [],
   "source": [
    "# Assuming you have a DataFrame 'df' with 'VideoID', 'TopicWords1', 'TopicWords2', ...\n",
    "\n",
    "# First, melt your DataFrame to bring all topic words into a single column\n",
    "video_detail2 = pd.melt(video_details, id_vars=['video_id'], value_vars=['tags'],\n",
    "                    var_name='TopicSource', value_name='Words')\n",
    "\n",
    "# Split the 'Words' column into separate rows\n",
    "# This step explodes each list of words into separate rows, maintaining the VideoID\n",
    "video_detail2['Words'] = video_detail2['Words'].str.split(',')\n",
    "final_split_tags = video_detail2.explode('Words')\n",
    "\n",
    "# Optionally, clean up the data by stripping whitespace\n",
    "final_split_tags['Words'] = final_split_tags['Words'].str.strip()"
   ]
  },
  {
   "cell_type": "code",
   "execution_count": null,
   "metadata": {},
   "outputs": [],
   "source": [
    "final_split_tags"
   ]
  },
  {
   "cell_type": "code",
   "execution_count": null,
   "metadata": {},
   "outputs": [],
   "source": [
    "final_split_tags['Words'] = final_split_tags['Words'].str.replace(\"'\", \"\")\n",
    "\n",
    "# Remove brackets\n",
    "final_split_tags['Words'] = final_split_tags['Words'].str.replace(\"[\\[\\]]\", \"\", regex=True)"
   ]
  },
  {
   "cell_type": "code",
   "execution_count": null,
   "metadata": {},
   "outputs": [],
   "source": [
    "final_split_tags"
   ]
  },
  {
   "cell_type": "code",
   "execution_count": null,
   "metadata": {},
   "outputs": [],
   "source": [
    "final_split_tags.to_csv('split_tags.csv', index=False)"
   ]
  }
 ],
 "metadata": {
  "kernelspec": {
   "display_name": "Python 3",
   "language": "python",
   "name": "python3"
  },
  "language_info": {
   "codemirror_mode": {
    "name": "ipython",
    "version": 3
   },
   "file_extension": ".py",
   "mimetype": "text/x-python",
   "name": "python",
   "nbconvert_exporter": "python",
   "pygments_lexer": "ipython3",
   "version": "3.11.1"
  }
 },
 "nbformat": 4,
 "nbformat_minor": 2
}
